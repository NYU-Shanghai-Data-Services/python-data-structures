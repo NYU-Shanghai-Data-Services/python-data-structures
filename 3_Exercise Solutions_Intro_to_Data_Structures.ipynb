{
  "nbformat": 4,
  "nbformat_minor": 0,
  "metadata": {
    "colab": {
      "name": "3_Exercise Answers_Intro to Data Structures.ipynb",
      "provenance": []
    },
    "kernelspec": {
      "name": "python3",
      "display_name": "Python 3"
    },
    "language_info": {
      "name": "python"
    }
  },
  "cells": [
    {
      "cell_type": "markdown",
      "metadata": {
        "id": "M3qYH6exuOEj"
      },
      "source": [
        "# Exercises - You made it!\n"
      ]
    },
    {
      "cell_type": "code",
      "metadata": {
        "id": "CWP_DGe2ukyZ",
        "colab": {
          "base_uri": "https://localhost:8080/"
        },
        "outputId": "a6bc3557-6a8f-473f-bdaf-7d705bd7eea1"
      },
      "source": [
        "# Exercise I: Write a for loop to sum up all the items in the following list\n",
        "num_list = [8, 9, 2, 65, 39, 1, 4, 32, 100]\n",
        "sum = 0\n",
        "for num in num_list:\n",
        "  sum += num\n",
        "print(sum)"
      ],
      "execution_count": null,
      "outputs": [
        {
          "output_type": "stream",
          "name": "stdout",
          "text": [
            "260\n"
          ]
        }
      ]
    },
    {
      "cell_type": "code",
      "metadata": {
        "colab": {
          "base_uri": "https://localhost:8080/"
        },
        "id": "BUOH5fO9b8X0",
        "outputId": "bd10425c-678a-4263-b2b1-cb9c8a2b22b5"
      },
      "source": [
        "# Exercise II: \n",
        "# Previously in the Nested Loop exercise, we print each adjective for every fruit:\n",
        "adj = [\"red\", \"big\", \"tasty\"]\n",
        "fruits = [\"apple\", \"banana\", \"cherry\"]\n",
        "\n",
        "for x in adj:\n",
        "  for y in fruits:\n",
        "    print(x, y)"
      ],
      "execution_count": null,
      "outputs": [
        {
          "output_type": "stream",
          "name": "stdout",
          "text": [
            "red apple\n",
            "red banana\n",
            "red cherry\n",
            "big apple\n",
            "big banana\n",
            "big cherry\n",
            "tasty apple\n",
            "tasty banana\n",
            "tasty cherry\n"
          ]
        }
      ]
    },
    {
      "cell_type": "code",
      "metadata": {
        "colab": {
          "base_uri": "https://localhost:8080/"
        },
        "id": "ngJ6cEQOb8X1",
        "outputId": "28e60d48-beb6-4fd2-abe7-024e7c8df1b9"
      },
      "source": [
        "# What if we want to get the following output (i.e. matching each element in order)?\n",
        "# Hint: think about indexing in lists, and making logical comparisons\n",
        "for x in adj:\n",
        " # uncomment the code below to see which index you're at in the adj list\n",
        " # print(adj.index(x))\n",
        " for y in fruits:\n",
        "   # uncomment the code below to see which index you're at in the fruits list\n",
        "   # print(fruits.index(y))\n",
        "   if adj.index(x) == fruits.index(y):\n",
        "     print(x, y)"
      ],
      "execution_count": null,
      "outputs": [
        {
          "output_type": "stream",
          "name": "stdout",
          "text": [
            "red apple\n",
            "big banana\n",
            "tasty cherry\n"
          ]
        }
      ]
    },
    {
      "cell_type": "code",
      "metadata": {
        "colab": {
          "base_uri": "https://localhost:8080/"
        },
        "id": "oexf7Lwtmzia",
        "outputId": "5e754537-2c43-4f4e-cb2c-42bc73c92750"
      },
      "source": [
        "# Exercise III: Change the 'city' information to 'New York'\n",
        "iron_man = {\"name\": \"Tony Stark\", \n",
        "            \"city\": \"Los Angeles\", \n",
        "            \"age\": 51, \n",
        "            \"profession\": \"Industrialist\"}\n",
        "\n",
        "#Type your answer below.\n",
        "iron_man[\"city\"] = \"New York\"\n",
        "iron_man"
      ],
      "execution_count": null,
      "outputs": [
        {
          "output_type": "execute_result",
          "data": {
            "text/plain": [
              "{'age': 51,\n",
              " 'city': 'New York',\n",
              " 'name': 'Tony Stark',\n",
              " 'profession': 'Industrialist'}"
            ]
          },
          "metadata": {},
          "execution_count": 46
        }
      ]
    },
    {
      "cell_type": "code",
      "metadata": {
        "colab": {
          "base_uri": "https://localhost:8080/"
        },
        "id": "5wxr_SpLnKmF",
        "outputId": "d46bec65-21dd-4557-8aef-3dfee04714f4"
      },
      "source": [
        "# Exercise IV: Define a function that returns the age of super heroes using the following dictionary\n",
        "# Hint: Use 2 arguments -- 1 for the dictionary name, 1 for the key name\n",
        "# Think about how to get values by key using .get()\n",
        "# Lastly, try to get the age of Black Widow\n",
        "super_hero_age = {'Iron Man': 51,\n",
        "                  'Spider Man': 28,\n",
        "                  'Hulk': 49,\n",
        "                  'Black Widow': 37,\n",
        "                  'Captain America': 99,\n",
        "                  'Thor': 1500}\n",
        "\n",
        "def get_age(dictionary, name):\n",
        "  age = dictionary.get(name)\n",
        "  print(age)\n",
        "\n",
        "get_age(super_hero_age, 'Black Widow')"
      ],
      "execution_count": null,
      "outputs": [
        {
          "output_type": "stream",
          "name": "stdout",
          "text": [
            "37\n"
          ]
        }
      ]
    }
  ]
}
