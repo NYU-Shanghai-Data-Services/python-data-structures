{
  "nbformat": 4,
  "nbformat_minor": 0,
  "metadata": {
    "colab": {
      "name": "2_Let's Code_Intro to Data Structures",
      "provenance": [],
      "collapsed_sections": [],
      "toc_visible": true
    },
    "kernelspec": {
      "name": "python3",
      "display_name": "Python 3"
    }
  },
  "cells": [
    {
      "cell_type": "markdown",
      "metadata": {
        "id": "w3cUlfopkGHH"
      },
      "source": [
        "**Welcome back!**\n",
        "\n",
        "In the [last workshop](https://github.com/NYU-Shanghai-Data-Services/python-intro) we have covered basics of Python. In this workshop, we will continue introducing more about Python and data structure.\n",
        "\n",
        "If you didn't attend the last workshop, don't worry. This notebook will include **Recaps** from the first workshop to refresh your memory about related concept.\n",
        "\n",
        "In computer science, a **data structure** is a data organization, management, and storage format that enables efficient access and modification. More precisely, a data structure is **a collection of data values**, the **relationships** among them, and the **functions or operations** that can be applied to the data."
      ]
    },
    {
      "cell_type": "markdown",
      "metadata": {
        "id": "j7Heg6WdWYjg"
      },
      "source": [
        "# Getting Started\n",
        "\n",
        "**Workshop Best Practices**\n",
        "\n",
        "*   All of the code below are executed/ ran. Feel free to edit the code on your copy.\n",
        "*   **How to run**? Click on the little arrow besides each chunk of code, or click on 'Runtime' - 'Run Selection'.\n",
        "*   Run the code chunk-by-chunk, don't run all at once.\n",
        "*   Some codes are dependent on previous codes, if you hit an error, check if you have ran the previous codes.\n",
        "*   Save your question at the end of each section.\n",
        "\n",
        "\n",
        "\n"
      ]
    },
    {
      "cell_type": "markdown",
      "metadata": {
        "id": "6OFy_X2BipRG"
      },
      "source": [
        "# **Python Collections**\n",
        "\n",
        "There are **four** collection data types in the Python programming language:\n",
        "\n",
        "* **List** is a collection which is **ordered and changeable**. Allows duplicate members.\n",
        "* **Tuple** is a collection which is **ordered and unchangeable**. Allows duplicate members.\n",
        "* **Set** is a collection which is **unordered and unindexed**. **No** duplicate members.\n",
        "* **Dictionary** is a collection which is **unordered and changeable**. **No** duplicate members.\n",
        "\n",
        "When choosing a collection type, it is useful to understand the properties of that type. Choosing the right type for a particular data set could mean retention of meaning, and, it could mean an increase in efficiency or security."
      ]
    },
    {
      "cell_type": "markdown",
      "metadata": {
        "id": "xw98Qj4q-oLJ"
      },
      "source": [
        "**Recap: About Data Types**"
      ]
    },
    {
      "cell_type": "code",
      "metadata": {
        "id": "XVAF5Qh7bN_w"
      },
      "source": [
        "x = 5\n",
        "y = \"John\"\n",
        "z = 5.55\n",
        "i = 15j #appending j to an int yields an imaginary number\n",
        "boo = False"
      ],
      "execution_count": null,
      "outputs": []
    },
    {
      "cell_type": "code",
      "metadata": {
        "colab": {
          "base_uri": "https://localhost:8080/"
        },
        "id": "mhVe2hdt0RiN",
        "outputId": "d66c6ba0-220b-44c9-9f39-26429c1ec2bd"
      },
      "source": [
        "print(x, y, z, i, boo)"
      ],
      "execution_count": null,
      "outputs": [
        {
          "output_type": "stream",
          "name": "stdout",
          "text": [
            "5 John 5.55 15j False\n"
          ]
        }
      ]
    },
    {
      "cell_type": "code",
      "metadata": {
        "colab": {
          "base_uri": "https://localhost:8080/"
        },
        "id": "d2f452NRnSP6",
        "outputId": "703a5000-9d15-45b9-b898-6a44ced3fbe6"
      },
      "source": [
        "# use type() to see the data type of each variable\n",
        "print(type(x), type(y), type(z), type(i), type(boo))"
      ],
      "execution_count": null,
      "outputs": [
        {
          "output_type": "stream",
          "name": "stdout",
          "text": [
            "<class 'int'> <class 'str'> <class 'float'> <class 'complex'> <class 'bool'>\n"
          ]
        }
      ]
    },
    {
      "cell_type": "markdown",
      "metadata": {
        "id": "ykAgrqtHi-o6"
      },
      "source": [
        "### **Task 1: Lists**\n",
        "\n",
        "Lists are created using **square brackets**:"
      ]
    },
    {
      "cell_type": "code",
      "metadata": {
        "colab": {
          "base_uri": "https://localhost:8080/"
        },
        "id": "KOb_ZJKXiRb0",
        "outputId": "3c3ad7e4-ade2-4e46-a4d7-1eca60b54368"
      },
      "source": [
        "# Create a List with the fruit names: 'apple', 'banana', and 'cherry'\n",
        "# What are the datatype(s)?\n",
        "fruits = ['apple', 'banana', 'cherry']\n",
        "print(fruits)"
      ],
      "execution_count": null,
      "outputs": [
        {
          "output_type": "stream",
          "name": "stdout",
          "text": [
            "['apple', 'banana', 'cherry']\n"
          ]
        }
      ]
    },
    {
      "cell_type": "markdown",
      "metadata": {
        "id": "mprdu2kvhnqV"
      },
      "source": [
        "#### Properties of lists\n",
        "List items are **ordered**, **changeable**, and **allow duplicate** values.\n",
        "\n",
        "* **Ordered:** When we say that lists are ordered, it means that the items have a defined order, and that order will not change. If you add new items to a list, the new items will be placed at the end of the list.\n",
        "\n",
        "* **Changeable:** The list is changeable, meaning that we can change, add, and remove items in a list after it has been created.\n",
        "\n",
        "    - **List Methods:** https://www.w3schools.com/python/python_lists_methods.asp\n",
        "\n",
        "* **Allow Duplicates:** Since lists are indexed, lists can have items with the same value."
      ]
    },
    {
      "cell_type": "markdown",
      "metadata": {
        "id": "Et8q1_u7AVa4"
      },
      "source": [
        "**Recap: About Indexing**"
      ]
    },
    {
      "cell_type": "markdown",
      "metadata": {
        "id": "XJ4yxXtp64QN"
      },
      "source": [
        "We can access characters in a string by **indexing**. **Square brackets** can be used to access elements of the string. The first character has the position **0**.\n"
      ]
    },
    {
      "cell_type": "code",
      "metadata": {
        "colab": {
          "base_uri": "https://localhost:8080/"
        },
        "id": "PldiY2CTCvWv",
        "outputId": "54e4b0c7-8da1-4200-e89e-b6a5dc6dc696"
      },
      "source": [
        "# Get the character at position 1 (remember that the first character has the position 0):\n",
        "a = \"wonderland\"\n",
        "print(a[5])"
      ],
      "execution_count": null,
      "outputs": [
        {
          "output_type": "stream",
          "name": "stdout",
          "text": [
            "r\n"
          ]
        }
      ]
    },
    {
      "cell_type": "markdown",
      "metadata": {
        "id": "wh6HDQeoBEU5"
      },
      "source": [
        "List items are **indexed** in a similar way to string. The first item has index [0], the second item has index [1] etc."
      ]
    },
    {
      "cell_type": "code",
      "metadata": {
        "colab": {
          "base_uri": "https://localhost:8080/",
          "height": 52
        },
        "id": "hdx8OR3KjBQW",
        "outputId": "060f2739-f34a-4647-905e-d20537eef198"
      },
      "source": [
        "# index fruits = ['apple', 'banana', 'cherry'] to get 'apple'\n",
        "fruits = ['apple', 'banana', 'cherry']\n",
        "print(fruits)\n",
        "fruits[0]"
      ],
      "execution_count": null,
      "outputs": [
        {
          "output_type": "stream",
          "name": "stdout",
          "text": [
            "['apple', 'banana', 'cherry']\n"
          ]
        },
        {
          "output_type": "execute_result",
          "data": {
            "application/vnd.google.colaboratory.intrinsic+json": {
              "type": "string"
            },
            "text/plain": [
              "'apple'"
            ]
          },
          "metadata": {},
          "execution_count": 12
        }
      ]
    },
    {
      "cell_type": "code",
      "metadata": {
        "colab": {
          "base_uri": "https://localhost:8080/"
        },
        "id": "v7ii9OSM3vRG",
        "outputId": "4e672382-05e9-4bb8-ee79-9c812016247a"
      },
      "source": [
        "# Add 'grapes' to the list using .append()\n",
        "# .append() function is specific to the data type of lists\n",
        "# i.e. you can't use it on a string value\n",
        "fruits.append('grapes')\n",
        "print(fruits)"
      ],
      "execution_count": null,
      "outputs": [
        {
          "output_type": "stream",
          "name": "stdout",
          "text": [
            "['apple', 'banana', 'cherry', 'grapes']\n"
          ]
        }
      ]
    },
    {
      "cell_type": "code",
      "metadata": {
        "colab": {
          "base_uri": "https://localhost:8080/"
        },
        "id": "wdY7hN2ijcUj",
        "outputId": "0e4ea837-8f8b-4a2f-89c9-f6b9b542f7e9"
      },
      "source": [
        "# Remove 'grapes' from list using .remove(value)\n",
        "fruits.remove('grapes')\n",
        "print(fruits)"
      ],
      "execution_count": null,
      "outputs": [
        {
          "output_type": "stream",
          "name": "stdout",
          "text": [
            "['apple', 'banana', 'cherry']\n"
          ]
        }
      ]
    },
    {
      "cell_type": "code",
      "metadata": {
        "colab": {
          "base_uri": "https://localhost:8080/"
        },
        "id": "ftrhzaTVkCXE",
        "outputId": "59f4d140-b289-4299-f813-58e501a3fc4a"
      },
      "source": [
        "# Pop (store & remove) 'banana' from list using .pop(index)\n",
        "# Store: The popped value can be stored as a variable\n",
        "banana = fruits.pop(1)\n",
        "print(banana)"
      ],
      "execution_count": null,
      "outputs": [
        {
          "output_type": "stream",
          "name": "stdout",
          "text": [
            "banana\n"
          ]
        }
      ]
    },
    {
      "cell_type": "code",
      "metadata": {
        "colab": {
          "base_uri": "https://localhost:8080/"
        },
        "id": "Pj1FqowHEDaq",
        "outputId": "15ad369f-5f91-4f66-e884-cab04478ec4a"
      },
      "source": [
        "# Remove: After popping, we'll see that 'banana' got removed\n",
        "print(fruits)"
      ],
      "execution_count": null,
      "outputs": [
        {
          "output_type": "stream",
          "name": "stdout",
          "text": [
            "['apple', 'cherry']\n"
          ]
        }
      ]
    },
    {
      "cell_type": "code",
      "metadata": {
        "id": "7w6oU6qkjNos",
        "colab": {
          "base_uri": "https://localhost:8080/"
        },
        "outputId": "cf61ee4a-fe38-40cb-ece7-21800a926926"
      },
      "source": [
        "# Lists allow duplicate values:\n",
        "fruits = ['apple', 'apple', 'cherry']\n",
        "print(fruits)"
      ],
      "execution_count": null,
      "outputs": [
        {
          "output_type": "stream",
          "name": "stdout",
          "text": [
            "['apple', 'apple', 'cherry']\n"
          ]
        }
      ]
    },
    {
      "cell_type": "markdown",
      "metadata": {
        "id": "fckClkcDpMnZ"
      },
      "source": [
        "**List Length**\n",
        "\n",
        "To determine how many items a list has, use the **len()** function:"
      ]
    },
    {
      "cell_type": "code",
      "metadata": {
        "colab": {
          "base_uri": "https://localhost:8080/"
        },
        "id": "un0PtJZSpUUy",
        "outputId": "13d31589-5c48-4328-ad0c-434226fd3fc1"
      },
      "source": [
        "# Print the number of items in the list using len():\n",
        "len(fruits)"
      ],
      "execution_count": null,
      "outputs": [
        {
          "output_type": "execute_result",
          "data": {
            "text/plain": [
              "3"
            ]
          },
          "metadata": {},
          "execution_count": 19
        }
      ]
    },
    {
      "cell_type": "markdown",
      "metadata": {
        "id": "lnrlFSgXpTe4"
      },
      "source": [
        "**List Items - Data Types**\n",
        "\n",
        "List items can be of any data type:"
      ]
    },
    {
      "cell_type": "code",
      "metadata": {
        "id": "KgB2OVUtpT2C",
        "colab": {
          "base_uri": "https://localhost:8080/"
        },
        "outputId": "9ebde485-c9d8-48e8-b2c1-2e9cffd83ed7"
      },
      "source": [
        "# String, int and boolean data types:\n",
        "list1 =  ['apple', 'banana', 'cherry']\n",
        "list2 =  [1, 5, 7, 9, 3]\n",
        "list3 = [True, False, False]\n",
        "print('List 1 is all strings:', list1)\n",
        "print('List 2 is all integers:', list2)\n",
        "print('List 3 is all booleans:', list3)"
      ],
      "execution_count": null,
      "outputs": [
        {
          "output_type": "stream",
          "name": "stdout",
          "text": [
            "List 1 is all strings: ['apple', 'banana', 'cherry']\n",
            "List 2 is all integers: [1, 5, 7, 9, 3]\n",
            "List 3 is all booleans: [True, False, False]\n"
          ]
        }
      ]
    },
    {
      "cell_type": "markdown",
      "metadata": {
        "id": "2HoSjCASpjYS"
      },
      "source": [
        "A list can contain different data types:"
      ]
    },
    {
      "cell_type": "code",
      "metadata": {
        "id": "xQPdezjkpkUr",
        "colab": {
          "base_uri": "https://localhost:8080/"
        },
        "outputId": "2918efe1-57cd-4e23-f866-ad7be28caa28"
      },
      "source": [
        "# A list with strings, integers and boolean values:\n",
        "list4 = ['abc', 34, True, 40, 'male']\n",
        "print(\"List 4 is a mixture of data types:\", list4)"
      ],
      "execution_count": null,
      "outputs": [
        {
          "output_type": "stream",
          "name": "stdout",
          "text": [
            "List 4 is a mixture of data types: ['abc', 34, True, 40, 'male']\n"
          ]
        }
      ]
    },
    {
      "cell_type": "markdown",
      "metadata": {
        "id": "EpfMOt8wQLk4"
      },
      "source": [
        "**Assigning Values to Multiple Variables using Lists**\n",
        "\n",
        "If you have a collection of values in a list, tuple etc. Python allows you extract the values into variables. This is called unpacking."
      ]
    },
    {
      "cell_type": "code",
      "metadata": {
        "id": "kkuaohUPQLBL",
        "colab": {
          "base_uri": "https://localhost:8080/"
        },
        "outputId": "ddaacdd5-e98a-4cd6-e4ba-4f5784752d0b"
      },
      "source": [
        "# Previously, we assigned multiple values like this:\n",
        "x, y, z = 'apple', 'banana', 'cherry'\n",
        "print(x, y, z)"
      ],
      "execution_count": null,
      "outputs": [
        {
          "output_type": "stream",
          "name": "stdout",
          "text": [
            "apple banana cherry\n"
          ]
        }
      ]
    },
    {
      "cell_type": "code",
      "metadata": {
        "id": "I4PBe3GuQOwz",
        "colab": {
          "base_uri": "https://localhost:8080/"
        },
        "outputId": "3d824373-a2ed-40af-cb37-fafef822af07"
      },
      "source": [
        "# define a list named \"fruits\" containing \"apple\", \"banana\", \"cherry\"\n",
        "# assign x, y, z to each fruit in the \"fruits\" list\n",
        "fruits = ['apple', 'banana', 'cherry']\n",
        "x, y, z = fruits\n",
        "print(x, y, z)"
      ],
      "execution_count": null,
      "outputs": [
        {
          "output_type": "stream",
          "name": "stdout",
          "text": [
            "apple banana cherry\n"
          ]
        }
      ]
    },
    {
      "cell_type": "markdown",
      "metadata": {
        "id": "pF89_Nydi-_G"
      },
      "source": [
        "### **Task 2: Tuples**\n",
        "\n",
        "Tuples are written with **round brackets**."
      ]
    },
    {
      "cell_type": "code",
      "metadata": {
        "colab": {
          "base_uri": "https://localhost:8080/"
        },
        "id": "PZp0VdzFio1Q",
        "outputId": "e548b671-9d0a-4237-a2e8-e241f116f5ab"
      },
      "source": [
        "# Create a Tuple with the values ('red', 'yellow', 'blue')\n",
        "colors = ('red', 'yellow', 'blue')\n",
        "print(colors)\n",
        "type(colors)"
      ],
      "execution_count": null,
      "outputs": [
        {
          "output_type": "stream",
          "name": "stdout",
          "text": [
            "('red', 'yellow', 'blue')\n"
          ]
        },
        {
          "output_type": "execute_result",
          "data": {
            "text/plain": [
              "tuple"
            ]
          },
          "metadata": {},
          "execution_count": 23
        }
      ]
    },
    {
      "cell_type": "markdown",
      "metadata": {
        "id": "OMwVb5nv41F8"
      },
      "source": [
        "#### Properties of Tuples\n",
        "\n",
        "**Like lists, tuples are:**\n",
        "* **Ordered:** When we say that tuples are ordered, it means that the items have a defined order, and that order will not change.\n",
        "* **Allow Duplicates:** Since tuple are indexed, tuples can have items with the same value.\n",
        "\n",
        "**Unlike lists, tuples are:**\n",
        "* **Unchangeable:** Tuples are unchangeable, meaning that we cannot change, add or remove items after the tuple has been created.\n"
      ]
    },
    {
      "cell_type": "code",
      "metadata": {
        "colab": {
          "base_uri": "https://localhost:8080/"
        },
        "id": "j1n-6PXdiRg9",
        "outputId": "8e909fd8-0fb1-4661-cc7a-9366c5ed4614"
      },
      "source": [
        "# duplicate items can be contained in a tuple -- similar to lists\n",
        "colors = ('red', 'red', 'yellow', 'blue')\n",
        "print(colors)"
      ],
      "execution_count": null,
      "outputs": [
        {
          "output_type": "stream",
          "name": "stdout",
          "text": [
            "('red', 'red', 'yellow', 'blue')\n"
          ]
        }
      ]
    },
    {
      "cell_type": "code",
      "metadata": {
        "colab": {
          "base_uri": "https://localhost:8080/",
          "height": 35
        },
        "id": "4SPcXmCAuCw2",
        "outputId": "e114d2e9-6aa9-44a7-f179-0631a61c0a6c"
      },
      "source": [
        "# get \"yellow\" by index\n",
        "colors[2]"
      ],
      "execution_count": null,
      "outputs": [
        {
          "output_type": "execute_result",
          "data": {
            "application/vnd.google.colaboratory.intrinsic+json": {
              "type": "string"
            },
            "text/plain": [
              "'yellow'"
            ]
          },
          "metadata": {},
          "execution_count": 38
        }
      ]
    },
    {
      "cell_type": "markdown",
      "metadata": {
        "id": "ozg88jy05pug"
      },
      "source": [
        "**Tuple Length**\n",
        "\n",
        "To determine how many items a tuple has, use the len() function:"
      ]
    },
    {
      "cell_type": "code",
      "metadata": {
        "colab": {
          "base_uri": "https://localhost:8080/"
        },
        "id": "7RPRep5J5UgV",
        "outputId": "ce145eed-b334-4518-8dbb-f09fd3e1ad5f"
      },
      "source": [
        "# Print the number of items in the tuple:\n",
        "colors = ('red', 'yellow', 'blue')\n",
        "len(colors)"
      ],
      "execution_count": null,
      "outputs": [
        {
          "output_type": "execute_result",
          "data": {
            "text/plain": [
              "3"
            ]
          },
          "metadata": {},
          "execution_count": 39
        }
      ]
    },
    {
      "cell_type": "markdown",
      "metadata": {
        "id": "ZMqr4ZWF50GR"
      },
      "source": [
        "**Tuple Items - Data Types**\n",
        "\n",
        "Tuple items can be of any data type:"
      ]
    },
    {
      "cell_type": "code",
      "metadata": {
        "id": "lvw8Ies16Ec0"
      },
      "source": [
        "# String, int and boolean data types:\n",
        "tuple1 = (\"apple\", \"banana\", \"cherry\")\n",
        "tuple2 = (1, 5, 7, 9, 3)\n",
        "tuple3 = (True, False, False)"
      ],
      "execution_count": null,
      "outputs": []
    },
    {
      "cell_type": "code",
      "metadata": {
        "id": "LfidLU_o6IQF"
      },
      "source": [
        "# A tuple can contain different data types:\n",
        "# A tuple with strings, integers and boolean values\n",
        "tuple1 = (\"abc\", 34, True, 40, \"male\")"
      ],
      "execution_count": null,
      "outputs": []
    },
    {
      "cell_type": "markdown",
      "metadata": {
        "id": "YUbGfUmV5sO_"
      },
      "source": [
        "**Create Tuple With One Item**\n",
        "\n",
        "To create a tuple with only one item, you have to add a comma after the item, otherwise Python will not recognize it as a tuple."
      ]
    },
    {
      "cell_type": "code",
      "metadata": {
        "colab": {
          "base_uri": "https://localhost:8080/"
        },
        "id": "wxHSeLmu51X5",
        "outputId": "c0d37322-55ac-4b2e-a8f3-93ce9fb2577b"
      },
      "source": [
        "# You can add round brackets to any value without changing its data type\n",
        "a = ([1, 1])\n",
        "b = ('apple')\n",
        "c = (2)\n",
        "print(type(a), type(b), type(c))\n",
        "\n",
        "# 1 common use case of round brackets: writing logical statements\n",
        "if (3 > 2) and (a != b):\n",
        "  print('Random statement holds.')"
      ],
      "execution_count": null,
      "outputs": [
        {
          "output_type": "stream",
          "name": "stdout",
          "text": [
            "<class 'list'> <class 'str'> <class 'int'>\n",
            "Random statement holds.\n"
          ]
        }
      ]
    },
    {
      "cell_type": "code",
      "metadata": {
        "colab": {
          "base_uri": "https://localhost:8080/"
        },
        "id": "w8gArtUb54G8",
        "outputId": "49e07d90-c182-44f6-9725-056196b0b5b3"
      },
      "source": [
        "# Try creating a tuple with only one item:\n",
        "tuple1 = ('red',)\n",
        "print(type(tuple1))\n",
        "print(len(tuple1))"
      ],
      "execution_count": null,
      "outputs": [
        {
          "output_type": "stream",
          "name": "stdout",
          "text": [
            "<class 'tuple'>\n",
            "1\n"
          ]
        }
      ]
    },
    {
      "cell_type": "markdown",
      "metadata": {
        "id": "20gKy83RjNAy"
      },
      "source": [
        "### **Task 3: Sets**\n",
        "\n",
        "Sets are written with **curly brackets**.\n"
      ]
    },
    {
      "cell_type": "code",
      "metadata": {
        "colab": {
          "base_uri": "https://localhost:8080/"
        },
        "id": "nEdCIoOTjTrG",
        "outputId": "30b0184e-de3a-4eff-fdf7-ac19eeef5733"
      },
      "source": [
        "# Create a Set:\n",
        "set1 = {'cherry', 'apple', 'banana'}\n",
        "print(set1)\n",
        "print(type(set1))"
      ],
      "execution_count": null,
      "outputs": [
        {
          "output_type": "stream",
          "name": "stdout",
          "text": [
            "{'apple', 'banana', 'cherry'}\n",
            "<class 'set'>\n"
          ]
        }
      ]
    },
    {
      "cell_type": "markdown",
      "metadata": {
        "id": "GJLu1FRy6kzI"
      },
      "source": [
        "#### Properties of Sets\n",
        "\n",
        "Set items are **unordered**, **unchangeable**, and do **not** allow duplicate values.\n",
        "\n",
        "* **Unordered:** Unordered means that the items in a set do not have a defined order. Set items cannot be referred to by index or key.\n",
        "* **Unchangeable:** Sets are unchangeable, meaning that we cannot change the items after the set has been created. Once a set is created, you cannot change its items, but you can add new items.\n",
        "* **Duplicates Not Allowed:** Sets cannot have two items with the same value."
      ]
    },
    {
      "cell_type": "code",
      "metadata": {
        "colab": {
          "base_uri": "https://localhost:8080/"
        },
        "id": "grUzeDpn7Nen",
        "outputId": "42ab90a4-2314-4e35-db48-798341d4ef99"
      },
      "source": [
        "# Duplicate values will be ignored:\n",
        "set1 = {'cherry', 'apple', 'banana', 'banana'}\n",
        "print(set1)"
      ],
      "execution_count": null,
      "outputs": [
        {
          "output_type": "stream",
          "name": "stdout",
          "text": [
            "{'apple', 'banana', 'cherry'}\n"
          ]
        }
      ]
    },
    {
      "cell_type": "markdown",
      "metadata": {
        "id": "Zom_ZaVtQHpx"
      },
      "source": [
        "**Get the Length of a Set**\n",
        "\n",
        "To determine how many items a set has, use the **len()** method."
      ]
    },
    {
      "cell_type": "code",
      "metadata": {
        "colab": {
          "base_uri": "https://localhost:8080/"
        },
        "id": "tgStuPF5QMLM",
        "outputId": "4e7be8cb-3586-434d-c523-e9569444edad"
      },
      "source": [
        "# Get the number of items in a set:\n",
        "set1 = {'cherry', 'apple', 'banana'}\n",
        "len(set1)"
      ],
      "execution_count": null,
      "outputs": [
        {
          "output_type": "execute_result",
          "data": {
            "text/plain": [
              "3"
            ]
          },
          "metadata": {},
          "execution_count": 1
        }
      ]
    },
    {
      "cell_type": "markdown",
      "metadata": {
        "id": "T_JdABTrQSId"
      },
      "source": [
        "**Set Items - Data Types**\n",
        "\n",
        "Set items can be of any data type:"
      ]
    },
    {
      "cell_type": "code",
      "metadata": {
        "id": "dQaKKsNxQZk4"
      },
      "source": [
        "# String, int and boolean data types:\n",
        "set1 = {\"apple\", \"banana\", \"cherry\"}\n",
        "set2 = {1, 5, 7, 9, 3}\n",
        "set3 = {True, False, False}"
      ],
      "execution_count": null,
      "outputs": []
    },
    {
      "cell_type": "code",
      "metadata": {
        "id": "S9Da0Zi8Qclo"
      },
      "source": [
        "# A set with strings, integers and boolean values:\n",
        "set1 = {\"abc\", 34, True, 40, \"male\"}"
      ],
      "execution_count": null,
      "outputs": []
    },
    {
      "cell_type": "markdown",
      "metadata": {
        "id": "WC_gcUZYjWmz"
      },
      "source": [
        "### **Task 4: Dictionaries**\n",
        "\n",
        "Different from lists, tuples, and sets, dictionaries are used to store data values in **key: value** pairs.\n",
        "\n",
        "Dictionaries are written with **curly brackets**, and have keys and values:"
      ]
    },
    {
      "cell_type": "code",
      "metadata": {
        "id": "ReMzgoRljj3e"
      },
      "source": [
        "# Create and print a dictionary:\n",
        "car_info = {'brand': 'Ford', 'model': 'Mustang', 'year': 1964}"
      ],
      "execution_count": null,
      "outputs": []
    },
    {
      "cell_type": "markdown",
      "metadata": {
        "id": "ypkRz-WaQpkM"
      },
      "source": [
        "#### Properties of Dictionaries\n",
        "\n",
        "* **Unordered:** You cannot refer to a dictionary item by using an index number.\n",
        "  *   Order doesn't matter, because you can use keys to get the corresponding values.\n",
        "* **Changeable:** Dictionaries are changeable, meaning that we can change, add or remove items after the dictionary has been created.\n",
        "* **Duplicates Not Allowed:** Dictionaries cannot have two items with the same **key**."
      ]
    },
    {
      "cell_type": "code",
      "metadata": {
        "colab": {
          "base_uri": "https://localhost:8080/"
        },
        "id": "qBVqxaFbdexC",
        "outputId": "b5af622e-48a5-4782-d59a-4a32ee2b9b14"
      },
      "source": [
        "# Adding an key: value pair to the dictionary\n",
        "# Directly attach the name of the new key in square brackets to your dictionary, \n",
        "# Assign it to the value you wish to add\n",
        "car_info = {'brand': 'Ford', \n",
        "            'model': 'Mustang', \n",
        "            'year': 1964}\n",
        "            \n",
        "car_info['color'] = 'red'\n",
        "print(car_info)"
      ],
      "execution_count": null,
      "outputs": [
        {
          "output_type": "stream",
          "name": "stdout",
          "text": [
            "{'brand': 'Ford', 'model': 'Mustang', 'year': 1964, 'color': 'red'}\n"
          ]
        }
      ]
    },
    {
      "cell_type": "code",
      "metadata": {
        "colab": {
          "base_uri": "https://localhost:8080/"
        },
        "id": "_DODn1eteAt7",
        "outputId": "cfcae13c-124e-4eeb-debc-b7644b33aa56"
      },
      "source": [
        "# Dictionaries don't have the .remove() method\n",
        "# We use .pop() method to remove 'model' information\n",
        "# In dictionaries, the pop method takes the key as the argument\n",
        "car_info.pop('model')\n",
        "print(car_info)"
      ],
      "execution_count": null,
      "outputs": [
        {
          "output_type": "stream",
          "name": "stdout",
          "text": [
            "{'brand': 'Ford', 'year': 1964, 'color': 'red'}\n"
          ]
        }
      ]
    },
    {
      "cell_type": "code",
      "metadata": {
        "colab": {
          "base_uri": "https://localhost:8080/"
        },
        "id": "H9-eIfYxhMM-",
        "outputId": "e5a22d0f-ef9c-411c-9fe1-759304201653"
      },
      "source": [
        "# .pop() in dictionaries store the popped value in a similar way to lists\n",
        "year_info = car_info.pop('year')\n",
        "print(year_info)\n",
        "print(car_info)"
      ],
      "execution_count": null,
      "outputs": [
        {
          "output_type": "stream",
          "name": "stdout",
          "text": [
            "1964\n",
            "{'brand': 'Ford', 'color': 'red'}\n"
          ]
        }
      ]
    },
    {
      "cell_type": "code",
      "metadata": {
        "colab": {
          "base_uri": "https://localhost:8080/"
        },
        "id": "uRmbV6mjSv9m",
        "outputId": "3a6c8021-84d6-42ed-93e8-cc3e9d5388a9"
      },
      "source": [
        "# Does not allow duplicate values will overwrite existing values:\n",
        "car_info = {\n",
        "  \"brand\": \"Ford\",\n",
        "  \"model\": \"Mustang\",\n",
        "  \"year\": 1964,\n",
        "  \"year\": 2020 # only the latter year information is stored\n",
        "}\n",
        "print(car_info)"
      ],
      "execution_count": null,
      "outputs": [
        {
          "output_type": "stream",
          "name": "stdout",
          "text": [
            "{'brand': 'Ford', 'model': 'Mustang', 'year': 2020}\n"
          ]
        }
      ]
    },
    {
      "cell_type": "code",
      "metadata": {
        "id": "eXtYBUScur7C",
        "colab": {
          "base_uri": "https://localhost:8080/",
          "height": 35
        },
        "outputId": "0695102b-4c26-4618-b2fc-0b5c7e9a757b"
      },
      "source": [
        "# get value of a certain key using .get()\n",
        "# let's try to get the \"brand\" information\n",
        "car_info.get('brand')"
      ],
      "execution_count": null,
      "outputs": [
        {
          "output_type": "execute_result",
          "data": {
            "application/vnd.google.colaboratory.intrinsic+json": {
              "type": "string"
            },
            "text/plain": [
              "'Ford'"
            ]
          },
          "metadata": {},
          "execution_count": 31
        }
      ]
    },
    {
      "cell_type": "code",
      "metadata": {
        "colab": {
          "base_uri": "https://localhost:8080/"
        },
        "id": "FnjSCTRovrrp",
        "outputId": "f7617f5a-50a3-4d85-e1b5-af36a9ea433b"
      },
      "source": [
        "# get keys (no argument is taken)\n",
        "car_info = {\n",
        "  \"brand\": \"Ford\",\n",
        "  \"model\": \"Mustang\",\n",
        "  \"year\": 1964,\n",
        "  \"year\": 2020 # only the latter year information is stored\n",
        "}\n",
        "car_info.keys()"
      ],
      "execution_count": null,
      "outputs": [
        {
          "output_type": "execute_result",
          "data": {
            "text/plain": [
              "dict_keys(['brand', 'model', 'year'])"
            ]
          },
          "metadata": {},
          "execution_count": 33
        }
      ]
    },
    {
      "cell_type": "markdown",
      "metadata": {
        "id": "4dhT5lLnS8Uo"
      },
      "source": [
        "**Dictionary Length**\n",
        "\n",
        "To determine how many items a dictionary has, use the **len()** function."
      ]
    },
    {
      "cell_type": "code",
      "metadata": {
        "colab": {
          "base_uri": "https://localhost:8080/"
        },
        "id": "6ShY2c8STAau",
        "outputId": "ffe56ce4-38ca-42ca-cb75-8649788be473"
      },
      "source": [
        "# Find the number of items in the dictionary:\n",
        "print(car_info)\n",
        "len(car_info)"
      ],
      "execution_count": null,
      "outputs": [
        {
          "output_type": "stream",
          "name": "stdout",
          "text": [
            "{'brand': 'Ford', 'model': 'Mustang', 'year': 2020}\n"
          ]
        },
        {
          "output_type": "execute_result",
          "data": {
            "text/plain": [
              "3"
            ]
          },
          "metadata": {},
          "execution_count": 34
        }
      ]
    },
    {
      "cell_type": "markdown",
      "metadata": {
        "id": "pytCAN8tTD6P"
      },
      "source": [
        "**Dictionary Items - Data Types**\n",
        "\n",
        "The values in dictionary items can be of **any** data type."
      ]
    },
    {
      "cell_type": "code",
      "metadata": {
        "id": "HOm2nYw2TH4C",
        "colab": {
          "base_uri": "https://localhost:8080/"
        },
        "outputId": "fab0aabc-ca0e-485e-cce3-dc355e5698aa"
      },
      "source": [
        "# String, int, boolean, and list, dictionary data types:\n",
        "car_info = {\n",
        "  \"brand\": \"Ford\",\n",
        "  \"electric\": False,\n",
        "  \"year\": 1964,\n",
        "  \"colors\": {\"red\": 1, \"white\": 2, \"blue\": 3}\n",
        "}\n",
        "car_info"
      ],
      "execution_count": null,
      "outputs": [
        {
          "output_type": "execute_result",
          "data": {
            "text/plain": [
              "{'brand': 'Ford',\n",
              " 'colors': {'blue': 3, 'red': 1, 'white': 2},\n",
              " 'electric': False,\n",
              " 'year': 1964}"
            ]
          },
          "metadata": {},
          "execution_count": 57
        }
      ]
    },
    {
      "cell_type": "code",
      "metadata": {
        "colab": {
          "base_uri": "https://localhost:8080/"
        },
        "id": "5UWoSh0kulxX",
        "outputId": "73b9924c-7f79-4974-d66c-deb2aab7a4ae"
      },
      "source": [
        "# change brand to BMW\n",
        "# car_info[\"brand\"] = \"BMW\""
      ],
      "execution_count": null,
      "outputs": [
        {
          "output_type": "execute_result",
          "data": {
            "text/plain": [
              "{'brand': 'BMW',\n",
              " 'colors': {'blue': 3, 'red': 1, 'white': 2},\n",
              " 'electric': False,\n",
              " 'year': 1964}"
            ]
          },
          "metadata": {},
          "execution_count": 58
        }
      ]
    },
    {
      "cell_type": "markdown",
      "metadata": {
        "id": "NO1PiZK3yOyx"
      },
      "source": [
        "### Summary: Choosing a Collection\n",
        "\n",
        "**When to use a dictionary:**\n",
        "- When you need a logical association between a key:value pair.\n",
        "- When you need fast lookup for your data, based on a custom key.\n",
        "- When your data is being constantly modified. Remember, dictionaries are mutable.\n",
        "\n",
        "**When to use the other types:**\n",
        "- Use **lists** if you have a collection of data that does not need random access. Try to choose lists when you need a simple, iterable collection that is modified frequently.\n",
        "- Use **a set** if you need uniqueness for the elements.\n",
        "- Use **tuples** when your data cannot change. \n",
        "  - In many cases, a tuple is used in combination with a dictionary, for example, a tuple might represent a key, because it’s immutable."
      ]
    },
    {
      "cell_type": "markdown",
      "metadata": {
        "id": "1HUDvHixjjV5"
      },
      "source": [
        "# **Loops and Iterations**\n",
        "\n",
        "Python has two primitive loop commands:\n",
        "* **While** loops\n",
        "* **For** loops\n",
        "\n",
        "These loops are frequently used with If - Elif - Else conditional statements"
      ]
    },
    {
      "cell_type": "markdown",
      "metadata": {
        "id": "W9TO7epfgIB_"
      },
      "source": [
        "**Recap: If - Elif - Else Statements**"
      ]
    },
    {
      "cell_type": "code",
      "metadata": {
        "colab": {
          "base_uri": "https://localhost:8080/"
        },
        "id": "9zyoJXfTUTu1",
        "outputId": "51b8467a-b1a9-46d6-8422-c8e87cce7694"
      },
      "source": [
        "a = 2\n",
        "b = 33\n",
        "if b > a: #if condition (b > a) is fulfilled\n",
        "  print(\"b is greater than a\")\n",
        "elif a > b: #else if condition (a > ba) is fulfilled\n",
        "  print(\"a is greater than b\")\n",
        "else: #else/ in all other cases\n",
        "  print(\"a is equal to b\")"
      ],
      "execution_count": null,
      "outputs": [
        {
          "output_type": "stream",
          "name": "stdout",
          "text": [
            "b is greater than a\n"
          ]
        }
      ]
    },
    {
      "cell_type": "code",
      "metadata": {
        "colab": {
          "base_uri": "https://localhost:8080/"
        },
        "id": "HxAVsVJyuKuk",
        "outputId": "e49aa408-ef07-44b3-a083-1be2e97f6b6a"
      },
      "source": [
        "# a while loop can be combined with else statements\n",
        "# Print a message once the condition is false:\n",
        "i = 1\n",
        "while i < 6:\n",
        "  print(i)\n",
        "  i += 1"
      ],
      "execution_count": null,
      "outputs": [
        {
          "output_type": "stream",
          "name": "stdout",
          "text": [
            "1\n",
            "2\n",
            "3\n",
            "4\n",
            "5\n"
          ]
        }
      ]
    },
    {
      "cell_type": "markdown",
      "metadata": {
        "id": "5f2o85U5jyAC"
      },
      "source": [
        "### **Task 5: Creating While Loops**\n",
        "\n",
        "With the while loop we can execute **a set of** statements as long as a condition is **true**."
      ]
    },
    {
      "cell_type": "code",
      "metadata": {
        "id": "7vPX77y2j3Sy"
      },
      "source": [
        "# Print i as long as i is less than 6:\n",
        "i = 1"
      ],
      "execution_count": null,
      "outputs": []
    },
    {
      "cell_type": "markdown",
      "metadata": {
        "id": "Bh8QJ6AqtHX0"
      },
      "source": [
        "        Note: remember to increment i by adding 1, or else the loop will continue forever."
      ]
    },
    {
      "cell_type": "markdown",
      "metadata": {
        "id": "FcP5fglNtnES"
      },
      "source": [
        "**The break Statement**\n",
        "\n",
        "With the break statement we can **stop the loop** even if the while condition is true:"
      ]
    },
    {
      "cell_type": "code",
      "metadata": {
        "colab": {
          "base_uri": "https://localhost:8080/"
        },
        "id": "ql4kFf-dttdc",
        "outputId": "a866b0c3-77f6-41cd-f5a2-11e91cd29a88"
      },
      "source": [
        "# Exit the loop when i is 3:\n",
        "# print i in every iteration, \n",
        "# increment i by 1 at the end of every iteration\n",
        "i = 1\n",
        "while i < 6:\n",
        "  print(i)\n",
        "  if i == 3:\n",
        "    break\n",
        "  i += 1"
      ],
      "execution_count": null,
      "outputs": [
        {
          "output_type": "stream",
          "name": "stdout",
          "text": [
            "1\n",
            "2\n",
            "3\n"
          ]
        }
      ]
    },
    {
      "cell_type": "markdown",
      "metadata": {
        "id": "r_ARqyk3ts7k"
      },
      "source": [
        "**The continue Statement**\n",
        "\n",
        "With the continue statement we can **stop the current iteration**, and continue with the next:"
      ]
    },
    {
      "cell_type": "code",
      "metadata": {
        "colab": {
          "base_uri": "https://localhost:8080/"
        },
        "id": "gEUymOc8t-II",
        "outputId": "fc704355-f7b7-438a-89ad-6cfe01b925d3"
      },
      "source": [
        "# Continue to the next iteration if i is 3:\n",
        "# start from 0 this time\n",
        "# since the continue statement prevents the code after from running, \n",
        "# we should increment i by 1 at the beginning\n",
        "# print i at the end\n",
        "i = 0\n",
        "while i < 6:\n",
        "  i += 1\n",
        "  if i == 3:\n",
        "    continue\n",
        "  print(i)"
      ],
      "execution_count": null,
      "outputs": [
        {
          "output_type": "stream",
          "name": "stdout",
          "text": [
            "1\n",
            "2\n",
            "4\n",
            "5\n",
            "6\n"
          ]
        }
      ]
    },
    {
      "cell_type": "markdown",
      "metadata": {
        "id": "yLbvuhNbuD3w"
      },
      "source": [
        "**The else Statement**\n",
        "\n",
        "With the else statement we can run a block of code once when the condition no longer is true:"
      ]
    },
    {
      "cell_type": "markdown",
      "metadata": {
        "id": "Eu4_xlNfj24U"
      },
      "source": [
        "### **Task 6: Creating For Loops**\n",
        "\n",
        "A **for** loop is used for iterating over a **sequence** (that is either a list, a tuple, a dictionary, a set, or a string).\n",
        "\n",
        "This is less like the for keyword in other programming languages, and works more like an iterator method as found in other object-orientated programming languages.\n",
        "\n",
        "With the for loop we can execute a set of statements, once for each item in that sequence (e.g. a list, tuple, set etc.)"
      ]
    },
    {
      "cell_type": "markdown",
      "metadata": {
        "id": "VryTbc-KC6BM"
      },
      "source": [
        "**Recap: Looping Through a String**\n",
        "\n",
        "Even strings are iterable objects, they contain a sequence of characters, i.e. arrays.\n",
        "\n",
        "Since strings are arrays, we can loop through the characters in a string, with a for loop."
      ]
    },
    {
      "cell_type": "code",
      "metadata": {
        "colab": {
          "base_uri": "https://localhost:8080/"
        },
        "id": "LXNWPkBIC5bk",
        "outputId": "6433cebf-a483-4ae0-cf17-dd75859ddc5b"
      },
      "source": [
        "# Loop through the character in the string \"apple\":\n",
        "word = 'apple'\n",
        "for i in word:\n",
        "  print(i)"
      ],
      "execution_count": null,
      "outputs": [
        {
          "output_type": "stream",
          "name": "stdout",
          "text": [
            "a\n",
            "p\n",
            "p\n",
            "l\n",
            "e\n"
          ]
        }
      ]
    },
    {
      "cell_type": "code",
      "metadata": {
        "colab": {
          "base_uri": "https://localhost:8080/"
        },
        "id": "dC1BKTVkj8E4",
        "outputId": "f7f9569e-bfdf-4e71-a34d-2b8ac2f700bb"
      },
      "source": [
        "# Try this: Print each fruit in a fruit list:\n",
        "fruits = [\"apple\", \"banana\", \"cherry\"]\n",
        "for fruit in fruits:\n",
        "  print(fruit)"
      ],
      "execution_count": null,
      "outputs": [
        {
          "output_type": "stream",
          "name": "stdout",
          "text": [
            "apple\n",
            "banana\n",
            "cherry\n"
          ]
        }
      ]
    },
    {
      "cell_type": "markdown",
      "metadata": {
        "id": "iYzIL-nluiFc"
      },
      "source": [
        "        The for loop does not require an indexing variable to set beforehand."
      ]
    },
    {
      "cell_type": "markdown",
      "metadata": {
        "id": "0TqynZnPuvPz"
      },
      "source": [
        "**The break Statement**\n",
        "\n",
        "With the break statement we can stop the loop before it has looped through all the items:"
      ]
    },
    {
      "cell_type": "code",
      "metadata": {
        "colab": {
          "base_uri": "https://localhost:8080/"
        },
        "id": "D3exXGfsu2Po",
        "outputId": "37756bad-87b1-480d-f955-19dfebd9e1f5"
      },
      "source": [
        "# Print the element at the start of each iteration\n",
        "# Exit the loop when fruit is \"banana\"\n",
        "# Hint: use the 'break' statement\n",
        "fruits = [\"apple\", \"banana\", \"cherry\"]\n",
        "for fruit in fruits:\n",
        "  print(fruit)\n",
        "  if fruit == 'banana':\n",
        "    break"
      ],
      "execution_count": null,
      "outputs": [
        {
          "output_type": "stream",
          "name": "stdout",
          "text": [
            "apple\n",
            "banana\n"
          ]
        }
      ]
    },
    {
      "cell_type": "code",
      "metadata": {
        "colab": {
          "base_uri": "https://localhost:8080/"
        },
        "id": "VeTmdrR9u6-2",
        "outputId": "ea426276-f158-4b6e-e66c-415cfa8b31ea"
      },
      "source": [
        "# Exit the loop when x is \"banana\", \n",
        "# but this time the break comes before the print (i.e. 'banana' doesn't need to be printed)\n",
        "fruits = [\"apple\", \"banana\", \"cherry\"]\n",
        "for fruit in fruits:\n",
        "  if fruit == 'banana':\n",
        "    break\n",
        "  print(fruit)"
      ],
      "execution_count": null,
      "outputs": [
        {
          "output_type": "stream",
          "name": "stdout",
          "text": [
            "apple\n"
          ]
        }
      ]
    },
    {
      "cell_type": "markdown",
      "metadata": {
        "id": "CFiwbcI0u1mZ"
      },
      "source": [
        "**The continue Statement**\n",
        "\n",
        "With the continue statement we can stop the current iteration of the loop, and continue with the next:"
      ]
    },
    {
      "cell_type": "code",
      "metadata": {
        "colab": {
          "base_uri": "https://localhost:8080/"
        },
        "id": "1qSe74TovBgu",
        "outputId": "786b8861-0fad-4d3a-da2d-b2436dbf60ef"
      },
      "source": [
        "# Do not print 'banana', but print the other elements\n",
        "# Print the element at the end of each iteration\n",
        "# hint: use the continue statement\n",
        "fruits = [\"apple\", \"banana\", \"cherry\"]\n"
      ],
      "execution_count": null,
      "outputs": [
        {
          "output_type": "stream",
          "name": "stdout",
          "text": [
            "apple\n",
            "cherry\n"
          ]
        }
      ]
    },
    {
      "cell_type": "markdown",
      "metadata": {
        "id": "UF6QtwVpwl8U"
      },
      "source": [
        "**The pass Statement in For Loops**\n",
        "\n",
        "**for** loops cannot be empty, but if you for some reason have a **for** loop with no content, put in the **pass** or **continue** statement to avoid getting an error."
      ]
    },
    {
      "cell_type": "code",
      "metadata": {
        "id": "o6oY8a4ytLBP"
      },
      "source": [
        "list1 = [1, 2, 3]\n",
        "# this is a legit for loop with no content\n",
        "for num in list1:\n",
        "  pass"
      ],
      "execution_count": null,
      "outputs": []
    },
    {
      "cell_type": "markdown",
      "metadata": {
        "id": "xjxHCUh7tOHp"
      },
      "source": [
        "The difference between Pass and Continue is shown below:"
      ]
    },
    {
      "cell_type": "code",
      "metadata": {
        "colab": {
          "base_uri": "https://localhost:8080/"
        },
        "id": "5jNMUFkA3cu0",
        "outputId": "94b83730-1482-4b7c-9a4f-b5b92e93b6f9"
      },
      "source": [
        "a = [0, 1, 2]\n",
        "for element in a:\n",
        "  if element == 0:\n",
        "    print('The element is 0')\n",
        "    pass # condition is fulfilled, continues to the rest of loop\n",
        "  print(element)"
      ],
      "execution_count": null,
      "outputs": [
        {
          "output_type": "stream",
          "name": "stdout",
          "text": [
            "The element is 0\n",
            "0\n",
            "1\n",
            "2\n"
          ]
        }
      ]
    },
    {
      "cell_type": "code",
      "metadata": {
        "colab": {
          "base_uri": "https://localhost:8080/"
        },
        "id": "1OBtVTnV3jr8",
        "outputId": "06ecbb5c-8e52-4701-dcbe-14531a3bae45"
      },
      "source": [
        "for element in a:\n",
        "  if element == 0:\n",
        "    print(\"The element is 0\")\n",
        "    continue # makes the statement AND the rest of loop not executable, i.e. continues to the next loop\n",
        "  print(element)"
      ],
      "execution_count": null,
      "outputs": [
        {
          "output_type": "stream",
          "name": "stdout",
          "text": [
            "The element is 0\n",
            "1\n",
            "2\n"
          ]
        }
      ]
    },
    {
      "cell_type": "markdown",
      "metadata": {
        "id": "hgkQA046vGiz"
      },
      "source": [
        "**The range() Function**\n",
        "\n",
        "To loop through a set of code a specified number of times, we can use the **range()** function,\n",
        "\n",
        "The range() function returns a sequence of numbers, starting from 0 by default, and increments by 1 (by default), and ends at a specified number."
      ]
    },
    {
      "cell_type": "code",
      "metadata": {
        "colab": {
          "base_uri": "https://localhost:8080/"
        },
        "id": "UVkO1CZcvP3E",
        "outputId": "705362d3-82b3-4d77-d521-cd1dc2acf73c"
      },
      "source": [
        "# Using the range() function, we can specify the number of iterations\n",
        "for x in range(10):\n",
        "  print(x)\n",
        "  print('This line of code is executed in loop', x)"
      ],
      "execution_count": null,
      "outputs": [
        {
          "output_type": "stream",
          "name": "stdout",
          "text": [
            "0\n",
            "This line of code is executed in loop 0\n",
            "1\n",
            "This line of code is executed in loop 1\n",
            "2\n",
            "This line of code is executed in loop 2\n",
            "3\n",
            "This line of code is executed in loop 3\n",
            "4\n",
            "This line of code is executed in loop 4\n",
            "5\n",
            "This line of code is executed in loop 5\n",
            "6\n",
            "This line of code is executed in loop 6\n",
            "7\n",
            "This line of code is executed in loop 7\n",
            "8\n",
            "This line of code is executed in loop 8\n",
            "9\n",
            "This line of code is executed in loop 9\n"
          ]
        }
      ]
    },
    {
      "cell_type": "code",
      "metadata": {
        "colab": {
          "base_uri": "https://localhost:8080/"
        },
        "id": "R12bZq2R2Qx5",
        "outputId": "15d9022a-4e2c-4154-fd3f-83fa3ca6a989"
      },
      "source": [
        "# print \"hello world\" 6 times using for loop with range()\n",
        "for x in range(6):\n",
        "  print(\"hello, world!\")"
      ],
      "execution_count": null,
      "outputs": [
        {
          "output_type": "stream",
          "name": "stdout",
          "text": [
            "hello, world!\n",
            "hello, world!\n",
            "hello, world!\n",
            "hello, world!\n",
            "hello, world!\n",
            "hello, world!\n"
          ]
        }
      ]
    },
    {
      "cell_type": "markdown",
      "metadata": {
        "id": "JWGdnKy-vWd1"
      },
      "source": [
        "        Note that range(6) is not the values of 0 to 6, but the values 0 to 5."
      ]
    },
    {
      "cell_type": "markdown",
      "metadata": {
        "id": "1A28yu5IvZv0"
      },
      "source": [
        "The **range()** function defaults to 0 as a starting value, however it is possible to specify the starting value by adding a parameter: **range(2, 6)**, which means values from 2 to 6 (but not including 6)"
      ]
    },
    {
      "cell_type": "markdown",
      "metadata": {
        "id": "ScYfJeRQBN5O"
      },
      "source": [
        "**Recap: Slicing strings with indices**\n",
        "\n",
        "You can return a range of characters by using the slice syntax.\n",
        "\n",
        "Specify the start index and the end index, separated by a colon, to return a part of the string."
      ]
    },
    {
      "cell_type": "code",
      "metadata": {
        "colab": {
          "base_uri": "https://localhost:8080/"
        },
        "id": "dcOb5v8YBUy1",
        "outputId": "9c96b1cf-eaeb-4177-c1d8-d49377062b80"
      },
      "source": [
        "# Get the characters from position 0 to position 5 (not included):\n",
        "b = \"Hello, World!\"\n",
        "print(b[0:5])"
      ],
      "execution_count": null,
      "outputs": [
        {
          "output_type": "stream",
          "name": "stdout",
          "text": [
            "Hello\n"
          ]
        }
      ]
    },
    {
      "cell_type": "markdown",
      "metadata": {
        "id": "hL4v4mPar3hm"
      },
      "source": [
        "**Indexing a range** is very similar to slicing a string"
      ]
    },
    {
      "cell_type": "code",
      "metadata": {
        "colab": {
          "base_uri": "https://localhost:8080/"
        },
        "id": "nyyHV1S0veOl",
        "outputId": "2782b7ce-6186-415a-f899-c0e588183d6b"
      },
      "source": [
        "for x in range(1,10):\n",
        "  print(x)"
      ],
      "execution_count": null,
      "outputs": [
        {
          "output_type": "stream",
          "name": "stdout",
          "text": [
            "1\n",
            "2\n",
            "3\n",
            "4\n",
            "5\n",
            "6\n",
            "7\n",
            "8\n",
            "9\n"
          ]
        }
      ]
    },
    {
      "cell_type": "markdown",
      "metadata": {
        "id": "MdA04NwwvPWy"
      },
      "source": [
        "The **range()** function defaults to increment the sequence by 1, however it is possible to specify the increment value by adding a third parameter: **range(2, 30, 3)**"
      ]
    },
    {
      "cell_type": "markdown",
      "metadata": {
        "id": "09WdqoMtrtki"
      },
      "source": [
        "**Recap: Stepping strings with indices**"
      ]
    },
    {
      "cell_type": "code",
      "metadata": {
        "colab": {
          "base_uri": "https://localhost:8080/"
        },
        "id": "OE4dVnmvsn70",
        "outputId": "765cb688-9b3e-4a47-98e2-806b345393af"
      },
      "source": [
        "# [start_index:end_index:step_size]\n",
        "b = \"Hello, World!\"\n",
        "step_b = b[1:8:2]\n",
        "print(step_b)"
      ],
      "execution_count": null,
      "outputs": [
        {
          "output_type": "stream",
          "name": "stdout",
          "text": [
            "el,W\n"
          ]
        }
      ]
    },
    {
      "cell_type": "markdown",
      "metadata": {
        "id": "xVYInfxPr_Cf"
      },
      "source": [
        "**Incrementing a range** is very similar to stepping strings with indices"
      ]
    },
    {
      "cell_type": "code",
      "metadata": {
        "colab": {
          "base_uri": "https://localhost:8080/"
        },
        "id": "vNTQgM9Ivmjs",
        "outputId": "0e7ff5fd-ef62-4c8e-f223-7ebfc4c49cdf"
      },
      "source": [
        "# Increment the sequence with 3 (default is 1):\n",
        "for x in range(1, 10, 3):\n",
        "  print(x)"
      ],
      "execution_count": null,
      "outputs": [
        {
          "output_type": "stream",
          "name": "stdout",
          "text": [
            "1\n",
            "4\n",
            "7\n"
          ]
        }
      ]
    },
    {
      "cell_type": "markdown",
      "metadata": {
        "id": "V9n8gae3wHTI"
      },
      "source": [
        "**Else in For Loop**\n",
        "\n",
        "The **else** keyword in a **for** loop specifies a block of code to be executed when the loop is finished:"
      ]
    },
    {
      "cell_type": "code",
      "metadata": {
        "colab": {
          "base_uri": "https://localhost:8080/"
        },
        "id": "xvp8qWoUwMlw",
        "outputId": "cb7febda-4969-4c17-8173-361c9397b240"
      },
      "source": [
        "# Print all numbers from 0 to 5, and print a message when the loop has ended:\n",
        "for x in range(6):\n",
        "  print(x)\n",
        "else:\n",
        "  print(\"Finally finished!\")"
      ],
      "execution_count": null,
      "outputs": [
        {
          "output_type": "stream",
          "name": "stdout",
          "text": [
            "0\n",
            "1\n",
            "2\n",
            "3\n",
            "4\n",
            "5\n",
            "Finally finished!\n"
          ]
        }
      ]
    },
    {
      "cell_type": "markdown",
      "metadata": {
        "id": "j7-znbTuwSBU"
      },
      "source": [
        "        Note: The else block will NOT be executed if the loop is stopped by a break statement."
      ]
    },
    {
      "cell_type": "code",
      "metadata": {
        "colab": {
          "base_uri": "https://localhost:8080/"
        },
        "id": "OyyrQbOlwWQ6",
        "outputId": "1a779008-032e-45de-eeac-baa9fd799e2b"
      },
      "source": [
        "# Break the loop when x is 3, and see what happens with the else block:\n",
        "for x in range(6):\n",
        "  if x == 3: \n",
        "      break\n",
        "  print(x)\n",
        "else:\n",
        "  print(\"Finally finished!\")"
      ],
      "execution_count": null,
      "outputs": [
        {
          "output_type": "stream",
          "name": "stdout",
          "text": [
            "0\n",
            "1\n",
            "2\n"
          ]
        }
      ]
    },
    {
      "cell_type": "markdown",
      "metadata": {
        "id": "LILtioy9wTr8"
      },
      "source": [
        "**Nested Loops**\n",
        "\n",
        "A nested loop is **a loop inside a loop**.\n",
        "\n",
        "The \"inner loop\" will be executed one time for each iteration of the \"outer loop\":"
      ]
    },
    {
      "cell_type": "code",
      "metadata": {
        "colab": {
          "base_uri": "https://localhost:8080/"
        },
        "id": "EtSa08HDwf0y",
        "outputId": "69314a7b-67c7-4090-e509-c6bf3eb7777a"
      },
      "source": [
        "# Print each adjective for every fruit:\n",
        "adj = [\"red\", \"big\", \"tasty\"]\n",
        "fruits = [\"apple\", \"banana\", \"cherry\"]\n",
        "\n",
        "for x in adj:\n",
        "  for y in fruits:\n",
        "    print(x, y)"
      ],
      "execution_count": null,
      "outputs": [
        {
          "output_type": "stream",
          "name": "stdout",
          "text": [
            "red apple\n",
            "red banana\n",
            "red cherry\n",
            "big apple\n",
            "big banana\n",
            "big cherry\n",
            "tasty apple\n",
            "tasty banana\n",
            "tasty cherry\n"
          ]
        }
      ]
    },
    {
      "cell_type": "markdown",
      "metadata": {
        "id": "LwwR9uhvj9y0"
      },
      "source": [
        "# **Functions**\n",
        "\n",
        "A function is a block of code which only runs when it is called.\n",
        "\n",
        "You can pass **data**, known as parameters, into a function.\n",
        "\n",
        "A function can return **data** as a result."
      ]
    },
    {
      "cell_type": "markdown",
      "metadata": {
        "id": "7lqSSeXQw92D"
      },
      "source": [
        "### **Task 7: Creating a Function**\n",
        "\n",
        "In Python a function is defined using the **def** keyword:"
      ]
    },
    {
      "cell_type": "code",
      "metadata": {
        "id": "QAaEauOAxCPl"
      },
      "source": [
        "def my_function():\n",
        "  print(\"Hello from a function\")"
      ],
      "execution_count": null,
      "outputs": []
    },
    {
      "cell_type": "markdown",
      "metadata": {
        "id": "2Hw-pw_wxFRJ"
      },
      "source": [
        "### **Task 8: Calling a Function**\n",
        "\n",
        "To call a function, use the function name followed by parenthesis:"
      ]
    },
    {
      "cell_type": "code",
      "metadata": {
        "colab": {
          "base_uri": "https://localhost:8080/"
        },
        "id": "1ObLDx3PxJYA",
        "outputId": "90780e51-47e6-44bf-e1cb-380f4219e871"
      },
      "source": [
        "my_function()"
      ],
      "execution_count": null,
      "outputs": [
        {
          "output_type": "stream",
          "name": "stdout",
          "text": [
            "Hello from a function\n"
          ]
        }
      ]
    },
    {
      "cell_type": "markdown",
      "metadata": {
        "id": "mH-Tp6m4xOvr"
      },
      "source": [
        "### **Task 9: Input Arguments**\n",
        "\n",
        "Information can be passed into functions as arguments.\n",
        "\n",
        "Arguments are specified after the function name, inside the parentheses. You can add as many arguments as you want, just separate them with a comma.\n",
        "\n",
        "The following example has a function with one argument (fname). When the function is called, we pass along a first name, which is used inside the function to print the full name:"
      ]
    },
    {
      "cell_type": "code",
      "metadata": {
        "id": "DnvDFP_MAaAr"
      },
      "source": [
        "def add_first_name(fname):\n",
        "  print(fname + \" Lee\")"
      ],
      "execution_count": null,
      "outputs": []
    },
    {
      "cell_type": "code",
      "metadata": {
        "colab": {
          "base_uri": "https://localhost:8080/"
        },
        "id": "KCEQNOtl4TcW",
        "outputId": "69fcd5f8-76dc-4082-c29e-da5cd4219d36"
      },
      "source": [
        "# Let's say we want to print out the name \"Stan Lee\" using this function\n",
        "add_first_name(\"Stan\")"
      ],
      "execution_count": null,
      "outputs": [
        {
          "output_type": "stream",
          "name": "stdout",
          "text": [
            "Stan Lee\n"
          ]
        }
      ]
    },
    {
      "cell_type": "markdown",
      "metadata": {
        "id": "-Np_RBchqvaj"
      },
      "source": [
        "        Arguments are often shortened to args in Python documentations."
      ]
    },
    {
      "cell_type": "markdown",
      "metadata": {
        "id": "dVTC2SJzq2R8"
      },
      "source": [
        "### **Task 9: Arguments VS Parameters**\n",
        "\n",
        "The terms parameter and argument can be used for the same thing: **information that are passed into a function.**\n",
        "\n",
        "From a function's perspective:\n",
        "\n",
        "* An **argument** is the value that is sent to the function when it is called.\n",
        "\n",
        "* A **parameter** is the variable listed inside the parentheses in the function definition."
      ]
    },
    {
      "cell_type": "markdown",
      "metadata": {
        "id": "s-7tO7q-rEhp"
      },
      "source": [
        "**Number of Arguments**\n",
        "\n",
        "By default, a function must be called with the correct number of arguments. Meaning that if your function expects 2 arguments, you have to call the function with 2 arguments, not more, and not less."
      ]
    },
    {
      "cell_type": "code",
      "metadata": {
        "id": "I87nCugHrH9B"
      },
      "source": [
        "# This function expects 2 arguments, and gets 2 arguments:\n",
        "def full_name(fname, lname):\n",
        "  print(fname + \" \" + lname)"
      ],
      "execution_count": null,
      "outputs": []
    },
    {
      "cell_type": "code",
      "metadata": {
        "colab": {
          "base_uri": "https://localhost:8080/"
        },
        "id": "lT15l3eYAw9H",
        "outputId": "15aa9793-e715-44fe-f1f1-35912c51ee88"
      },
      "source": [
        "full_name('Peter','Parker')"
      ],
      "execution_count": null,
      "outputs": [
        {
          "output_type": "stream",
          "name": "stdout",
          "text": [
            "Peter Parker\n"
          ]
        }
      ]
    },
    {
      "cell_type": "markdown",
      "metadata": {
        "id": "PIHUIS0drUR_"
      },
      "source": [
        "**Keyword Arguments**\n",
        "\n",
        "You can also send arguments with the **key = value** syntax.\n",
        "\n",
        "This way the order of the arguments does not matter."
      ]
    },
    {
      "cell_type": "code",
      "metadata": {
        "colab": {
          "base_uri": "https://localhost:8080/"
        },
        "id": "DOQTA_Ekrav9",
        "outputId": "6804d1d8-671f-4282-8351-9641343d52a9"
      },
      "source": [
        "def youngest(child3, child2, child1):\n",
        "  print(\"The youngest child is \" + child3)\n",
        "\n",
        "youngest(\"Peter\", \"Loki\", \"Thor\")\n",
        "\n",
        "# alternatively, we can manually reset the argument order and use the 'key=value' syntax, \n",
        "youngest(child1 = \"Thor\", child2 = \"Loki\", child3 = \"Peter\")"
      ],
      "execution_count": null,
      "outputs": [
        {
          "output_type": "stream",
          "name": "stdout",
          "text": [
            "The youngest child is Peter\n",
            "The youngest child is Peter\n"
          ]
        }
      ]
    },
    {
      "cell_type": "code",
      "metadata": {
        "colab": {
          "base_uri": "https://localhost:8080/",
          "height": 164
        },
        "id": "pbD_XboA7JnZ",
        "outputId": "be126edd-6813-402d-88a0-5bfcbef049b4"
      },
      "source": [
        "youngest() # error message will be returned"
      ],
      "execution_count": null,
      "outputs": [
        {
          "output_type": "error",
          "ename": "TypeError",
          "evalue": "ignored",
          "traceback": [
            "\u001b[0;31m---------------------------------------------------------------------------\u001b[0m",
            "\u001b[0;31mTypeError\u001b[0m                                 Traceback (most recent call last)",
            "\u001b[0;32m<ipython-input-61-9b299445d4db>\u001b[0m in \u001b[0;36m<module>\u001b[0;34m()\u001b[0m\n\u001b[0;32m----> 1\u001b[0;31m \u001b[0myoungest\u001b[0m\u001b[0;34m(\u001b[0m\u001b[0;34m)\u001b[0m \u001b[0;31m# error message will be returned\u001b[0m\u001b[0;34m\u001b[0m\u001b[0;34m\u001b[0m\u001b[0m\n\u001b[0m",
            "\u001b[0;31mTypeError\u001b[0m: youngest() missing 3 required positional arguments: 'child3', 'child2', and 'child1'"
          ]
        }
      ]
    },
    {
      "cell_type": "markdown",
      "metadata": {
        "id": "QJVuVFbsrXq5"
      },
      "source": [
        "**Default Parameter Value**\n",
        "\n",
        "The following example shows how to use a default parameter value.\n",
        "\n",
        "If we call the function without argument, it uses the default value:"
      ]
    },
    {
      "cell_type": "code",
      "metadata": {
        "id": "6yseI7KWrvgh"
      },
      "source": [
        "def my_country(country = \"Norway\"):\n",
        "  print(\"I am from \" + country)"
      ],
      "execution_count": null,
      "outputs": []
    },
    {
      "cell_type": "code",
      "metadata": {
        "colab": {
          "base_uri": "https://localhost:8080/"
        },
        "id": "3Wfm91ELrxv6",
        "outputId": "60c5a31a-7374-402f-b62f-79ae88ad7cd5"
      },
      "source": [
        "# if there is a default parameter, \n",
        "# we can directly call on the function by my_function()\n",
        "my_country()\n",
        "# we can also change the argument, try China\n",
        "my_country('China')"
      ],
      "execution_count": null,
      "outputs": [
        {
          "output_type": "stream",
          "name": "stdout",
          "text": [
            "I am from Norway\n",
            "I am from China\n"
          ]
        }
      ]
    },
    {
      "cell_type": "markdown",
      "metadata": {
        "id": "poyzsPw-rygO"
      },
      "source": [
        "**Return Values**\n",
        "\n",
        "To let a function return a value, use the return statement:"
      ]
    },
    {
      "cell_type": "code",
      "metadata": {
        "id": "z9W1grt-r9Cp"
      },
      "source": [
        "def multiply_five(x):\n",
        "  return 5 * x"
      ],
      "execution_count": null,
      "outputs": []
    },
    {
      "cell_type": "code",
      "metadata": {
        "id": "PrtYoicb7bOj",
        "colab": {
          "base_uri": "https://localhost:8080/"
        },
        "outputId": "1ed0b07b-72b2-4610-cb55-6e51df6760eb"
      },
      "source": [
        "# the returned value can be stored as a variable\n",
        "result = multiply_five(10)\n",
        "print(result)\n",
        "type(result)"
      ],
      "execution_count": null,
      "outputs": [
        {
          "output_type": "stream",
          "name": "stdout",
          "text": [
            "50\n"
          ]
        },
        {
          "output_type": "execute_result",
          "data": {
            "text/plain": [
              "int"
            ]
          },
          "metadata": {},
          "execution_count": 67
        }
      ]
    },
    {
      "cell_type": "code",
      "metadata": {
        "id": "wj_Sm0sdsBil",
        "colab": {
          "base_uri": "https://localhost:8080/"
        },
        "outputId": "26f88ed9-4341-4b43-c682-040e12a7f66c"
      },
      "source": [
        "# try to return the following values:\n",
        "multiply_five(3)"
      ],
      "execution_count": null,
      "outputs": [
        {
          "output_type": "execute_result",
          "data": {
            "text/plain": [
              "15"
            ]
          },
          "metadata": {},
          "execution_count": 69
        }
      ]
    },
    {
      "cell_type": "markdown",
      "metadata": {
        "id": "Zi7PjXDEkAXX"
      },
      "source": [
        "### **Task 11: Creating Lambda Functions**\n",
        "\n",
        "A lambda function is **a small anonymous function**.\n",
        "\n",
        "A lambda function can take any number of arguments, but can only have one expression."
      ]
    },
    {
      "cell_type": "markdown",
      "metadata": {
        "id": "AB8e6FnrsQJQ"
      },
      "source": [
        "**Syntax**\n",
        "\n",
        "        lambda arguments : expression\n",
        "        \n",
        "The expression is executed and the result is returned:"
      ]
    },
    {
      "cell_type": "code",
      "metadata": {
        "id": "OS0QCw-vkDkz",
        "colab": {
          "base_uri": "https://localhost:8080/"
        },
        "outputId": "360bc75a-cfd7-4ca2-e0af-262cae75ced8"
      },
      "source": [
        "# Add 10 to argument a, and return the result:\n",
        "x = lambda a : a + 10\n",
        "print(x(5))"
      ],
      "execution_count": null,
      "outputs": [
        {
          "output_type": "stream",
          "name": "stdout",
          "text": [
            "15\n"
          ]
        }
      ]
    },
    {
      "cell_type": "code",
      "metadata": {
        "colab": {
          "base_uri": "https://localhost:8080/"
        },
        "id": "xEMxySNIbOHu",
        "outputId": "625d4d7d-a91e-4e4b-b5c0-15c4dbd2e247"
      },
      "source": [
        "def add_10(a):\n",
        "  print(a + 10)\n",
        "add_10(5)"
      ],
      "execution_count": null,
      "outputs": [
        {
          "output_type": "stream",
          "name": "stdout",
          "text": [
            "15\n"
          ]
        }
      ]
    },
    {
      "cell_type": "markdown",
      "metadata": {
        "id": "DLwuG93Ttzdg"
      },
      "source": [
        "Lambda functions can take any number of arguments:"
      ]
    },
    {
      "cell_type": "code",
      "metadata": {
        "id": "JkkTDLD9t4SK",
        "colab": {
          "base_uri": "https://localhost:8080/"
        },
        "outputId": "4aec6e7c-d6b7-478e-9bae-d6d34eb2f486"
      },
      "source": [
        "# Multiply argument a with argument b and return the result:\n",
        "x = lambda a, b : a * b\n",
        "print(x(10, 10))"
      ],
      "execution_count": null,
      "outputs": [
        {
          "output_type": "stream",
          "name": "stdout",
          "text": [
            "100\n"
          ]
        }
      ]
    },
    {
      "cell_type": "code",
      "metadata": {
        "id": "-vot1oz_AQM7",
        "colab": {
          "base_uri": "https://localhost:8080/"
        },
        "outputId": "be5b3ed8-4e98-4121-c2d8-c615fd4dbfb4"
      },
      "source": [
        "print(x(2, 3))"
      ],
      "execution_count": null,
      "outputs": [
        {
          "output_type": "stream",
          "name": "stdout",
          "text": [
            "6\n"
          ]
        }
      ]
    },
    {
      "cell_type": "code",
      "metadata": {
        "id": "IilEPQEsEicr",
        "colab": {
          "base_uri": "https://localhost:8080/"
        },
        "outputId": "6e4994c0-b197-48fe-d8e4-a8df7bd373b4"
      },
      "source": [
        "# Challenge: How to get 8 using the above lambda fuction?\n",
        "print(x(2,4))"
      ],
      "execution_count": null,
      "outputs": [
        {
          "output_type": "stream",
          "name": "stdout",
          "text": [
            "8\n"
          ]
        }
      ]
    },
    {
      "cell_type": "code",
      "metadata": {
        "id": "ahocXMe5t4dt",
        "colab": {
          "base_uri": "https://localhost:8080/"
        },
        "outputId": "fe21d3eb-da62-4e86-e68a-8ef5a5f97539"
      },
      "source": [
        "# Summarize argument a, b, and c and return the result:\n",
        "y = lambda a, b, c : a + b + c\n",
        "print(y(1, 2, 3))"
      ],
      "execution_count": null,
      "outputs": [
        {
          "output_type": "stream",
          "name": "stdout",
          "text": [
            "6\n"
          ]
        }
      ]
    },
    {
      "cell_type": "code",
      "metadata": {
        "id": "s27Sfy34ApOl"
      },
      "source": [
        "# Rewrite y by defining a normal function"
      ],
      "execution_count": null,
      "outputs": []
    },
    {
      "cell_type": "code",
      "metadata": {
        "id": "nqB3DkrsAxOk",
        "colab": {
          "base_uri": "https://localhost:8080/"
        },
        "outputId": "372ed87e-0aee-4116-e2a0-e4f9276bee49"
      },
      "source": [
        "# called on the function with arguments: a=1, b=2, c=3"
      ],
      "execution_count": null,
      "outputs": [
        {
          "output_type": "execute_result",
          "data": {
            "text/plain": [
              "6"
            ]
          },
          "metadata": {},
          "execution_count": 72
        }
      ]
    },
    {
      "cell_type": "markdown",
      "metadata": {
        "id": "s8hY2Z5wt_dk"
      },
      "source": [
        "**Why Use Lambda Functions?**\n",
        "\n",
        "They are useful when you want a function that you will use just one time.\n",
        "\n",
        "They contain simple logical operations that are easy to read and understand.\n",
        "\n",
        "The power of lambda is better shown when you use them as an anonymous function inside another function.\n",
        "\n",
        "Say you have a function definition that takes one argument, and that argument will be multiplied with an unknown number:"
      ]
    },
    {
      "cell_type": "code",
      "metadata": {
        "id": "jr_iAVWuuxBh"
      },
      "source": [
        "def my_func(n):\n",
        "  return lambda a : a * n"
      ],
      "execution_count": null,
      "outputs": []
    },
    {
      "cell_type": "markdown",
      "metadata": {
        "id": "CONyAawPuyMC"
      },
      "source": [
        "Use that function definition to make a function that always doubles the number you send in:"
      ]
    },
    {
      "cell_type": "code",
      "metadata": {
        "id": "5u_2QyMwu3rI"
      },
      "source": [
        "def my_func(n):\n",
        "  return lambda a : a * n\n",
        "\n",
        "# By implementing a lambda function within my_func()\n",
        "# you can make another function with my_func() by assigning it to a variable,\n",
        "# (i.e. without necessarily defining it the normal way)\n",
        "# Let's decalre my_doubler, which is a function that doubles up the input argument\n",
        "# it can take an argument and pass into the lambda function declared within my_func()\n",
        "my_doubler = my_func(2)"
      ],
      "execution_count": null,
      "outputs": []
    },
    {
      "cell_type": "code",
      "metadata": {
        "colab": {
          "base_uri": "https://localhost:8080/"
        },
        "id": "0URfBvUeqXWD",
        "outputId": "b069453a-0286-4416-f2c0-413e4eb87bfb"
      },
      "source": [
        "print(my_doubler(11)) # this argument is the argument a in the lambda function\n",
        "# in other words, it passes a = 11 into my_func(2), where n = 2\n",
        "# therefore, my_doubler(11) will return 11 * 2 = 22, \n",
        "# which corresponds to the lambda a : a * n"
      ],
      "execution_count": null,
      "outputs": [
        {
          "output_type": "stream",
          "name": "stdout",
          "text": [
            "22\n"
          ]
        }
      ]
    },
    {
      "cell_type": "code",
      "metadata": {
        "id": "1FtyS-4zu7wa",
        "colab": {
          "base_uri": "https://localhost:8080/",
          "height": 164
        },
        "outputId": "6b1b6e4d-b797-4b16-f2a6-d70ca2a55f02"
      },
      "source": [
        "# if you try to input 2 arguments, you'll see an wrror\n",
        "# because the lambda function inside my_func() only takes 1 argument\n",
        "print(my_doubler(11, 10))"
      ],
      "execution_count": null,
      "outputs": [
        {
          "output_type": "error",
          "ename": "TypeError",
          "evalue": "ignored",
          "traceback": [
            "\u001b[0;31m---------------------------------------------------------------------------\u001b[0m",
            "\u001b[0;31mTypeError\u001b[0m                                 Traceback (most recent call last)",
            "\u001b[0;32m<ipython-input-82-93ad7f27537c>\u001b[0m in \u001b[0;36m<module>\u001b[0;34m()\u001b[0m\n\u001b[0;32m----> 1\u001b[0;31m \u001b[0mprint\u001b[0m\u001b[0;34m(\u001b[0m\u001b[0mmy_doubler\u001b[0m\u001b[0;34m(\u001b[0m\u001b[0;36m11\u001b[0m\u001b[0;34m,\u001b[0m \u001b[0;36m10\u001b[0m\u001b[0;34m)\u001b[0m\u001b[0;34m)\u001b[0m\u001b[0;34m\u001b[0m\u001b[0;34m\u001b[0m\u001b[0m\n\u001b[0m",
            "\u001b[0;31mTypeError\u001b[0m: <lambda>() takes 1 positional argument but 2 were given"
          ]
        }
      ]
    },
    {
      "cell_type": "markdown",
      "metadata": {
        "id": "M3qYH6exuOEj"
      },
      "source": [
        "# Exercises - You made it!\n"
      ]
    },
    {
      "cell_type": "code",
      "metadata": {
        "id": "CWP_DGe2ukyZ"
      },
      "source": [
        "# Exercise I: Write a for loop to sum up all the items in the following list\n",
        "# Hint: initialize a variable first to store the sum (e.g. sum = 0)\n",
        "num_list = [8, 9, 2, 65, 39, 1, 4, 32, 100]"
      ],
      "execution_count": null,
      "outputs": []
    },
    {
      "cell_type": "code",
      "metadata": {
        "colab": {
          "base_uri": "https://localhost:8080/"
        },
        "id": "BUOH5fO9b8X0",
        "outputId": "ac524681-706e-4610-db73-d025a07cbb40"
      },
      "source": [
        "# Exercise II: \n",
        "# Previously in the Nested Loop exercise, we print each adjective for every fruit:\n",
        "adj = [\"red\", \"big\", \"tasty\"]\n",
        "fruits = [\"apple\", \"banana\", \"cherry\"]\n",
        "\n",
        "for x in adj:\n",
        "  for y in fruits:\n",
        "    print(x, y)"
      ],
      "execution_count": null,
      "outputs": [
        {
          "output_type": "stream",
          "name": "stdout",
          "text": [
            "red apple\n",
            "red banana\n",
            "red cherry\n",
            "big apple\n",
            "big banana\n",
            "big cherry\n",
            "tasty apple\n",
            "tasty banana\n",
            "tasty cherry\n"
          ]
        }
      ]
    },
    {
      "cell_type": "code",
      "metadata": {
        "colab": {
          "base_uri": "https://localhost:8080/"
        },
        "id": "ngJ6cEQOb8X1",
        "outputId": "17109c77-de08-442e-d331-96a3a3551278"
      },
      "source": [
        "# What if we want to get the following output (i.e. matching each element in order)?\n",
        "# Hint: think about indexing in lists, and making logical comparisons"
      ],
      "execution_count": null,
      "outputs": [
        {
          "output_type": "stream",
          "name": "stdout",
          "text": [
            "red apple\n",
            "big banana\n",
            "tasty cherry\n"
          ]
        }
      ]
    },
    {
      "cell_type": "code",
      "metadata": {
        "id": "oexf7Lwtmzia"
      },
      "source": [
        "# Exercise III: Change the 'city' information to 'New York'\n",
        "iron_man = {\"name\": \"Tony Stark\", \n",
        "            \"city\": \"Los Angeles\", \n",
        "            \"age\": 51, \n",
        "            \"profession\": \"Industrialist\"}\n",
        "\n",
        "#Type your answer below."
      ],
      "execution_count": null,
      "outputs": []
    },
    {
      "cell_type": "code",
      "metadata": {
        "id": "5wxr_SpLnKmF"
      },
      "source": [
        "# Exercise IV: Define a function that returns the age of super heroes using the following dictionary\n",
        "# Hint: Use 2 arguments -- 1 for the dictionary name, 1 for the key name\n",
        "# Think about how to get values by key using .get()\n",
        "# Lastly, try to get the age of Black Widow by calling on this function\n",
        "super_hero_age = {'Iron Man': 51,\n",
        "                  'Spider Man': 28,\n",
        "                  'Hulk': 49,\n",
        "                  'Black Widow': 37,\n",
        "                  'Captain America': 99,\n",
        "                  'Thor': 1500}"
      ],
      "execution_count": null,
      "outputs": []
    },
    {
      "cell_type": "markdown",
      "source": [
        "**Exercise Solutions**\n",
        "\n",
        "Download [here](https://github.com/NYU-Shanghai-Data-Services/python-data-structures/blob/main/3_Exercise_Answers_Intro_to_Data_Structures.ipynb)."
      ],
      "metadata": {
        "id": "4nLCCQGqflCb"
      }
    },
    {
      "cell_type": "markdown",
      "source": [
        "**Got Questions?**\n",
        "\n",
        "Contact shanghai.library.data@nyu.edu"
      ],
      "metadata": {
        "id": "xtwYQ76WfwqB"
      }
    },
    {
      "cell_type": "markdown",
      "metadata": {
        "id": "zlmD5CqLrtTO"
      },
      "source": [
        "**Ending credits**\n",
        "\n",
        "Tutorial framework: https://www.w3schools.com/python/default.asp\n",
        "\n",
        "Modified and organized by: Pamela Pan, Jie Chen"
      ]
    }
  ]
}